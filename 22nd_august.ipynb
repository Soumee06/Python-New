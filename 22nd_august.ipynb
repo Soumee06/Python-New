{
  "nbformat": 4,
  "nbformat_minor": 0,
  "metadata": {
    "colab": {
      "name": "22nd august.ipynb",
      "provenance": [],
      "authorship_tag": "ABX9TyMQYeKq2Xpj+KQEACob9RFD",
      "include_colab_link": true
    },
    "kernelspec": {
      "name": "python3",
      "display_name": "Python 3"
    },
    "language_info": {
      "name": "python"
    }
  },
  "cells": [
    {
      "cell_type": "markdown",
      "metadata": {
        "id": "view-in-github",
        "colab_type": "text"
      },
      "source": [
        "<a href=\"https://colab.research.google.com/github/Soumee06/Python-New/blob/main/22nd_august.ipynb\" target=\"_parent\"><img src=\"https://colab.research.google.com/assets/colab-badge.svg\" alt=\"Open In Colab\"/></a>"
      ]
    },
    {
      "cell_type": "markdown",
      "source": [
        "Script 1: enter a number and print all prime numbers till that number\n",
        "\n",
        "Script 2: enter 2 numbers and print all prime numbers between them.\n"
      ],
      "metadata": {
        "id": "b2Cb_NBvEFfY"
      }
    },
    {
      "cell_type": "code",
      "source": [
        "%%writefile script.py\n",
        "#script1\n",
        "num=int(input(\"Enter a number=\"))\n",
        "for num in range(2, num + 1):\n",
        "    if num > 1:\n",
        "        #this for loop check if the num value is prime or not\n",
        "        for i in range(2, num):\n",
        "            if (num % i) == 0:\n",
        "                break\n",
        "        else:\n",
        "            print(num)\n",
        "  "
      ],
      "metadata": {
        "colab": {
          "base_uri": "https://localhost:8080/"
        },
        "id": "MQfiWTm0I-X5",
        "outputId": "f03493b7-f0d4-452b-9e90-466db7cddf2b"
      },
      "execution_count": 15,
      "outputs": [
        {
          "output_type": "stream",
          "name": "stdout",
          "text": [
            "Writing script.py\n"
          ]
        }
      ]
    },
    {
      "cell_type": "code",
      "execution_count": 16,
      "metadata": {
        "colab": {
          "base_uri": "https://localhost:8080/"
        },
        "id": "PmrSKroyDykd",
        "outputId": "f7c8e253-8e5c-4523-fd34-9f9babb68706"
      },
      "outputs": [
        {
          "output_type": "stream",
          "name": "stdout",
          "text": [
            "Writing script1.py\n"
          ]
        }
      ],
      "source": [
        "%%writefile script1.py\n",
        "\n",
        "#script2\n",
        "lower =int(input(\"Enter the lower limit or Number: \"))\n",
        "upper =int(input(\"Enter the upper limit or Number: \"))\n",
        "\n",
        "\n",
        "for num in range(lower, upper + 1):\n",
        "    if num > 1:\n",
        "        #this for loop check if the num value is prime or not\n",
        "        for i in range(2, num):\n",
        "            if (num % i) == 0:\n",
        "                break\n",
        "        else:\n",
        "            print(num)"
      ]
    },
    {
      "cell_type": "markdown",
      "source": [
        ""
      ],
      "metadata": {
        "id": "ReX4aegMECVx"
      }
    },
    {
      "cell_type": "code",
      "source": [
        ""
      ],
      "metadata": {
        "id": "T4CcPEarFa3I"
      },
      "execution_count": null,
      "outputs": []
    },
    {
      "cell_type": "code",
      "source": [
        "num = 11\n",
        "# If given number is greater than 1\n",
        "if num > 1:\n",
        "    # Iterate from 2 to n / 2\n",
        "    for i in range(2, int(num/2)+1):\n",
        "        # If num is divisible by any number between\n",
        "        # 2 and n / 2, it is not prime\n",
        "        if (num % i) == 0:\n",
        "            print(num, \"is not a prime number\")\n",
        "            continue\n",
        "    else:\n",
        "        print(i, \"is a prime number\")\n",
        "else:\n",
        "    print(i, \"is not a prime number\")"
      ],
      "metadata": {
        "colab": {
          "base_uri": "https://localhost:8080/"
        },
        "id": "K2Q5uIeDII_W",
        "outputId": "e65f3fa5-4fc0-4da6-b278-9d2523ebc22c"
      },
      "execution_count": 11,
      "outputs": [
        {
          "output_type": "stream",
          "name": "stdout",
          "text": [
            "5 is a prime number\n"
          ]
        }
      ]
    },
    {
      "cell_type": "code",
      "source": [
        ""
      ],
      "metadata": {
        "id": "5EASna48IJ16"
      },
      "execution_count": null,
      "outputs": []
    }
  ]
}
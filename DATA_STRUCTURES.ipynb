{
  "nbformat": 4,
  "nbformat_minor": 0,
  "metadata": {
    "colab": {
      "name": "DATA_STRUCTURES.ipynb",
      "provenance": [],
      "authorship_tag": "ABX9TyM5eQbRBcck00g+EJ5qY7/5",
      "include_colab_link": true
    },
    "kernelspec": {
      "name": "python3",
      "display_name": "Python 3"
    },
    "language_info": {
      "name": "python"
    }
  },
  "cells": [
    {
      "cell_type": "markdown",
      "metadata": {
        "id": "view-in-github",
        "colab_type": "text"
      },
      "source": [
        "<a href=\"https://colab.research.google.com/github/Soumee06/Python-New/blob/main/DATA_STRUCTURES.ipynb\" target=\"_parent\"><img src=\"https://colab.research.google.com/assets/colab-badge.svg\" alt=\"Open In Colab\"/></a>"
      ]
    },
    {
      "cell_type": "code",
      "execution_count": null,
      "metadata": {
        "id": "B6japkHWnW7d"
      },
      "outputs": [],
      "source": [
        ""
      ]
    },
    {
      "cell_type": "markdown",
      "source": [
        "**DATA STRUCTURES**"
      ],
      "metadata": {
        "id": "7Nb2VM59njMv"
      }
    },
    {
      "cell_type": "markdown",
      "source": [
        "**list, tuple, dictionary, set**"
      ],
      "metadata": {
        "id": "9pn8uotEncF0"
      }
    },
    {
      "cell_type": "code",
      "source": [
        ""
      ],
      "metadata": {
        "id": "4E8kvfvFngOn"
      },
      "execution_count": null,
      "outputs": []
    },
    {
      "cell_type": "markdown",
      "source": [
        "**LIST: A collection of items**"
      ],
      "metadata": {
        "id": "ZRrrmt36nuaC"
      }
    },
    {
      "cell_type": "markdown",
      "source": [
        ""
      ],
      "metadata": {
        "id": "vhoofhLW5auu"
      }
    },
    {
      "cell_type": "code",
      "source": [
        "list=[42,23,56,78,90]"
      ],
      "metadata": {
        "id": "VqD7nXKan_rL"
      },
      "execution_count": 1,
      "outputs": []
    },
    {
      "cell_type": "code",
      "source": [
        "dir(list) #all the methods that can be applied on list are shown"
      ],
      "metadata": {
        "colab": {
          "base_uri": "https://localhost:8080/"
        },
        "id": "cMQ6ncNZoGMl",
        "outputId": "65b1affc-b40b-4121-8662-43f31ec85e5d"
      },
      "execution_count": 2,
      "outputs": [
        {
          "output_type": "execute_result",
          "data": {
            "text/plain": [
              "['__add__',\n",
              " '__class__',\n",
              " '__contains__',\n",
              " '__delattr__',\n",
              " '__delitem__',\n",
              " '__dir__',\n",
              " '__doc__',\n",
              " '__eq__',\n",
              " '__format__',\n",
              " '__ge__',\n",
              " '__getattribute__',\n",
              " '__getitem__',\n",
              " '__gt__',\n",
              " '__hash__',\n",
              " '__iadd__',\n",
              " '__imul__',\n",
              " '__init__',\n",
              " '__init_subclass__',\n",
              " '__iter__',\n",
              " '__le__',\n",
              " '__len__',\n",
              " '__lt__',\n",
              " '__mul__',\n",
              " '__ne__',\n",
              " '__new__',\n",
              " '__reduce__',\n",
              " '__reduce_ex__',\n",
              " '__repr__',\n",
              " '__reversed__',\n",
              " '__rmul__',\n",
              " '__setattr__',\n",
              " '__setitem__',\n",
              " '__sizeof__',\n",
              " '__str__',\n",
              " '__subclasshook__',\n",
              " 'append',\n",
              " 'clear',\n",
              " 'copy',\n",
              " 'count',\n",
              " 'extend',\n",
              " 'index',\n",
              " 'insert',\n",
              " 'pop',\n",
              " 'remove',\n",
              " 'reverse',\n",
              " 'sort']"
            ]
          },
          "metadata": {},
          "execution_count": 2
        }
      ]
    },
    {
      "cell_type": "code",
      "source": [
        ""
      ],
      "metadata": {
        "id": "LdhN-MNRoKhk"
      },
      "execution_count": null,
      "outputs": []
    },
    {
      "cell_type": "markdown",
      "source": [
        "Append- adds an element at the end of the list"
      ],
      "metadata": {
        "id": "UXrTIJSZoTGS"
      }
    },
    {
      "cell_type": "code",
      "source": [
        "list.append(66)"
      ],
      "metadata": {
        "id": "0SQfgsCFogv6"
      },
      "execution_count": 3,
      "outputs": []
    },
    {
      "cell_type": "code",
      "source": [
        "list # an element 66 is added at the end of the list"
      ],
      "metadata": {
        "colab": {
          "base_uri": "https://localhost:8080/"
        },
        "id": "yrVpkt1MokK8",
        "outputId": "c9b816c1-4bbe-492b-be4e-8003315c846e"
      },
      "execution_count": 4,
      "outputs": [
        {
          "output_type": "execute_result",
          "data": {
            "text/plain": [
              "[42, 23, 56, 78, 90, 66]"
            ]
          },
          "metadata": {},
          "execution_count": 4
        }
      ]
    },
    {
      "cell_type": "markdown",
      "source": [
        "Clear- removes all elements from the list"
      ],
      "metadata": {
        "id": "9cbszmADovIj"
      }
    },
    {
      "cell_type": "code",
      "source": [
        "list.clear()"
      ],
      "metadata": {
        "id": "0SPn_lCjolZX"
      },
      "execution_count": 5,
      "outputs": []
    },
    {
      "cell_type": "code",
      "source": [
        "list #so only an empty list remains"
      ],
      "metadata": {
        "colab": {
          "base_uri": "https://localhost:8080/"
        },
        "id": "SKsEfBsjo49C",
        "outputId": "4c93e2ec-1b9c-487e-db5e-db89cd9243cf"
      },
      "execution_count": 6,
      "outputs": [
        {
          "output_type": "execute_result",
          "data": {
            "text/plain": [
              "[]"
            ]
          },
          "metadata": {},
          "execution_count": 6
        }
      ]
    },
    {
      "cell_type": "code",
      "source": [
        "list=[42,23,56,78,90,66]"
      ],
      "metadata": {
        "id": "BYKb-mtGo6TI"
      },
      "execution_count": 7,
      "outputs": []
    },
    {
      "cell_type": "markdown",
      "source": [
        "Copy- returns a copy of the list"
      ],
      "metadata": {
        "id": "xO9EMFUgpFnz"
      }
    },
    {
      "cell_type": "code",
      "source": [
        "a=list.copy()"
      ],
      "metadata": {
        "id": "5wdfqOd0pEAT"
      },
      "execution_count": 9,
      "outputs": []
    },
    {
      "cell_type": "code",
      "source": [
        "a #a copy of the list is created"
      ],
      "metadata": {
        "colab": {
          "base_uri": "https://localhost:8080/"
        },
        "id": "Yi-EHE3-pYKx",
        "outputId": "457b5f20-f4b1-47a4-dde5-bf00cc487385"
      },
      "execution_count": 10,
      "outputs": [
        {
          "output_type": "execute_result",
          "data": {
            "text/plain": [
              "[42, 23, 56, 78, 90, 66]"
            ]
          },
          "metadata": {},
          "execution_count": 10
        }
      ]
    },
    {
      "cell_type": "markdown",
      "source": [
        "Count- retuens the number of times an element is present in the list"
      ],
      "metadata": {
        "id": "B-oaeTiwpkGZ"
      }
    },
    {
      "cell_type": "code",
      "source": [
        "list.append(66)"
      ],
      "metadata": {
        "id": "Q1OWOPdUpbgR"
      },
      "execution_count": 11,
      "outputs": []
    },
    {
      "cell_type": "code",
      "source": [
        "list.count(66) #so we observe that 66 is presnt twice in the list"
      ],
      "metadata": {
        "colab": {
          "base_uri": "https://localhost:8080/"
        },
        "id": "XYPWl1HEpxFk",
        "outputId": "2d080104-9833-4420-d1b2-65e5dadece58"
      },
      "execution_count": 12,
      "outputs": [
        {
          "output_type": "execute_result",
          "data": {
            "text/plain": [
              "2"
            ]
          },
          "metadata": {},
          "execution_count": 12
        }
      ]
    },
    {
      "cell_type": "markdown",
      "source": [
        "Extend- it extends the list"
      ],
      "metadata": {
        "id": "5hjCpB8Wp5rP"
      }
    },
    {
      "cell_type": "code",
      "source": [
        "b=[2,4,8]"
      ],
      "metadata": {
        "id": "f82HNEJKpzJr"
      },
      "execution_count": 14,
      "outputs": []
    },
    {
      "cell_type": "code",
      "source": [
        "list.extend(b)"
      ],
      "metadata": {
        "id": "Gqerzb7PqCt4"
      },
      "execution_count": 15,
      "outputs": []
    },
    {
      "cell_type": "code",
      "source": [
        "list # so the elements of list b are added in the original list"
      ],
      "metadata": {
        "colab": {
          "base_uri": "https://localhost:8080/"
        },
        "id": "IH4VOuuBqTQW",
        "outputId": "1ab78112-e71c-47ec-b727-f214933612ab"
      },
      "execution_count": 16,
      "outputs": [
        {
          "output_type": "execute_result",
          "data": {
            "text/plain": [
              "[42, 23, 56, 78, 90, 66, 66, 2, 4, 8]"
            ]
          },
          "metadata": {},
          "execution_count": 16
        }
      ]
    },
    {
      "cell_type": "markdown",
      "source": [
        "Index- it tells the position of an element in the list"
      ],
      "metadata": {
        "id": "QRTzaLWNqbSK"
      }
    },
    {
      "cell_type": "code",
      "source": [
        "list.index(56) # so we get the position of 56 as 2, for a list indexing starts from 0 from the left."
      ],
      "metadata": {
        "colab": {
          "base_uri": "https://localhost:8080/"
        },
        "id": "SDv-x-maqUcg",
        "outputId": "d37ed040-3818-4864-ab09-e8ff2e4900c4"
      },
      "execution_count": 18,
      "outputs": [
        {
          "output_type": "execute_result",
          "data": {
            "text/plain": [
              "2"
            ]
          },
          "metadata": {},
          "execution_count": 18
        }
      ]
    },
    {
      "cell_type": "markdown",
      "source": [
        "Insert- adds an element to a specified position in a list"
      ],
      "metadata": {
        "id": "CuTIZ_Qfq3PM"
      }
    },
    {
      "cell_type": "code",
      "source": [
        "list.insert(7,999)"
      ],
      "metadata": {
        "id": "7iU_n31pqp12"
      },
      "execution_count": 19,
      "outputs": []
    },
    {
      "cell_type": "code",
      "source": [
        "list # so 999 is added to the 7th index in the list"
      ],
      "metadata": {
        "colab": {
          "base_uri": "https://localhost:8080/"
        },
        "id": "aJuGxHF_rC52",
        "outputId": "9840cc7b-263a-4559-d612-517f1b9d34c9"
      },
      "execution_count": 20,
      "outputs": [
        {
          "output_type": "execute_result",
          "data": {
            "text/plain": [
              "[42, 23, 56, 78, 90, 66, 66, 999, 2, 4, 8]"
            ]
          },
          "metadata": {},
          "execution_count": 20
        }
      ]
    },
    {
      "cell_type": "markdown",
      "source": [
        "Pop- removes the element from a specified position"
      ],
      "metadata": {
        "id": "OVX3fuiRrL_Q"
      }
    },
    {
      "cell_type": "code",
      "source": [
        "list.pop(2)"
      ],
      "metadata": {
        "colab": {
          "base_uri": "https://localhost:8080/"
        },
        "id": "xHd0r79-rEC4",
        "outputId": "4f30e6ba-7244-4b39-c66e-a0baf7ed7e38"
      },
      "execution_count": 21,
      "outputs": [
        {
          "output_type": "execute_result",
          "data": {
            "text/plain": [
              "56"
            ]
          },
          "metadata": {},
          "execution_count": 21
        }
      ]
    },
    {
      "cell_type": "code",
      "source": [
        "list #so 56 is removed from our list"
      ],
      "metadata": {
        "colab": {
          "base_uri": "https://localhost:8080/"
        },
        "id": "j4XHiwWrrYyf",
        "outputId": "80e4bdf0-4b01-46ea-a2dc-98e273c7e283"
      },
      "execution_count": 22,
      "outputs": [
        {
          "output_type": "execute_result",
          "data": {
            "text/plain": [
              "[42, 23, 78, 90, 66, 66, 999, 2, 4, 8]"
            ]
          },
          "metadata": {},
          "execution_count": 22
        }
      ]
    },
    {
      "cell_type": "markdown",
      "source": [
        "Remove- removes the item from the list"
      ],
      "metadata": {
        "id": "J7JUvOsLroR8"
      }
    },
    {
      "cell_type": "code",
      "source": [
        "list.remove(23)"
      ],
      "metadata": {
        "id": "Fx_33HTrraFS"
      },
      "execution_count": 23,
      "outputs": []
    },
    {
      "cell_type": "code",
      "source": [
        "list"
      ],
      "metadata": {
        "colab": {
          "base_uri": "https://localhost:8080/"
        },
        "id": "bNW9Q5LxruqV",
        "outputId": "c84eaa1f-47c9-425f-a90e-9d9153de8588"
      },
      "execution_count": 24,
      "outputs": [
        {
          "output_type": "execute_result",
          "data": {
            "text/plain": [
              "[42, 78, 90, 66, 66, 999, 2, 4, 8]"
            ]
          },
          "metadata": {},
          "execution_count": 24
        }
      ]
    },
    {
      "cell_type": "markdown",
      "source": [
        "reverse- reverses the order of the list"
      ],
      "metadata": {
        "id": "UJbyL4G8rzuq"
      }
    },
    {
      "cell_type": "code",
      "source": [
        "list.reverse()"
      ],
      "metadata": {
        "id": "DSciVIlFrv0G"
      },
      "execution_count": 25,
      "outputs": []
    },
    {
      "cell_type": "code",
      "source": [
        "list # so order of arrangement of the list is reversed"
      ],
      "metadata": {
        "colab": {
          "base_uri": "https://localhost:8080/"
        },
        "id": "jpR-Cv5Pr6F5",
        "outputId": "5db47e23-d5d4-45a0-b38e-5c0e1d1868c9"
      },
      "execution_count": 26,
      "outputs": [
        {
          "output_type": "execute_result",
          "data": {
            "text/plain": [
              "[8, 4, 2, 999, 66, 66, 90, 78, 42]"
            ]
          },
          "metadata": {},
          "execution_count": 26
        }
      ]
    },
    {
      "cell_type": "markdown",
      "source": [
        "Sort- this sorts the list in order"
      ],
      "metadata": {
        "id": "XV75R5zosEJa"
      }
    },
    {
      "cell_type": "code",
      "source": [
        "list #initial list"
      ],
      "metadata": {
        "colab": {
          "base_uri": "https://localhost:8080/"
        },
        "id": "FswOT0EUr7PB",
        "outputId": "b1e5be5d-af94-4fe5-edb8-2e4125fb0fc4"
      },
      "execution_count": 27,
      "outputs": [
        {
          "output_type": "execute_result",
          "data": {
            "text/plain": [
              "[8, 4, 2, 999, 66, 66, 90, 78, 42]"
            ]
          },
          "metadata": {},
          "execution_count": 27
        }
      ]
    },
    {
      "cell_type": "code",
      "source": [
        "list.sort()"
      ],
      "metadata": {
        "id": "zGysPzdxsKgE"
      },
      "execution_count": 28,
      "outputs": []
    },
    {
      "cell_type": "code",
      "source": [
        "list #sorted list"
      ],
      "metadata": {
        "colab": {
          "base_uri": "https://localhost:8080/"
        },
        "id": "Qr4tMKmosQto",
        "outputId": "2f4c6952-000d-4947-ba35-bb44b7523745"
      },
      "execution_count": 29,
      "outputs": [
        {
          "output_type": "execute_result",
          "data": {
            "text/plain": [
              "[2, 4, 8, 42, 66, 66, 78, 90, 999]"
            ]
          },
          "metadata": {},
          "execution_count": 29
        }
      ]
    },
    {
      "cell_type": "markdown",
      "source": [
        "**Tuple- tuple is a collection which is ordered and unchangeable.Itis represented by () and it is read only.**"
      ],
      "metadata": {
        "id": "sXe1hModsWXG"
      }
    },
    {
      "cell_type": "markdown",
      "source": [
        ""
      ],
      "metadata": {
        "id": "ov-jwL0a5Um0"
      }
    },
    {
      "cell_type": "code",
      "source": [
        "tuple=(22,44,88)"
      ],
      "metadata": {
        "id": "1b2bfW-es0iz"
      },
      "execution_count": 31,
      "outputs": []
    },
    {
      "cell_type": "code",
      "source": [
        "#Methods of tuple"
      ],
      "metadata": {
        "id": "ZbaqUHytsSC6"
      },
      "execution_count": 30,
      "outputs": []
    },
    {
      "cell_type": "markdown",
      "source": [
        "Count- returns the number of times a specified element is present in the tuple"
      ],
      "metadata": {
        "id": "hxIXGEE5srS5"
      }
    },
    {
      "cell_type": "code",
      "source": [
        "tuple.count(88) #it is present only 1 time"
      ],
      "metadata": {
        "colab": {
          "base_uri": "https://localhost:8080/"
        },
        "id": "f5f0OXZvsnRw",
        "outputId": "2e78bcb2-1b2c-41fb-f775-16db40249ef2"
      },
      "execution_count": 32,
      "outputs": [
        {
          "output_type": "execute_result",
          "data": {
            "text/plain": [
              "1"
            ]
          },
          "metadata": {},
          "execution_count": 32
        }
      ]
    },
    {
      "cell_type": "markdown",
      "source": [
        "index- retuens the position of an element inside the tuple"
      ],
      "metadata": {
        "id": "uA7jcycStCXX"
      }
    },
    {
      "cell_type": "code",
      "source": [
        "tuple.index(44) # so 44 is present at 1st position"
      ],
      "metadata": {
        "colab": {
          "base_uri": "https://localhost:8080/"
        },
        "id": "ke6qNcx5s8yj",
        "outputId": "da4114b8-2318-4460-fe14-e0f341dc7e93"
      },
      "execution_count": 33,
      "outputs": [
        {
          "output_type": "execute_result",
          "data": {
            "text/plain": [
              "1"
            ]
          },
          "metadata": {},
          "execution_count": 33
        }
      ]
    },
    {
      "cell_type": "markdown",
      "source": [
        "**SET- a set is a collection of unique elements.It is unordered and unindexed**"
      ],
      "metadata": {
        "id": "0QxyNgsPtWET"
      }
    },
    {
      "cell_type": "markdown",
      "source": [
        ""
      ],
      "metadata": {
        "id": "coXUsR-e5Qhw"
      }
    },
    {
      "cell_type": "code",
      "source": [
        "Set={'apple', 'banana', 'orange'}"
      ],
      "metadata": {
        "id": "GzZbOYnitMZR"
      },
      "execution_count": 35,
      "outputs": []
    },
    {
      "cell_type": "code",
      "source": [
        "dir(set) #to get the methods that can applied on a set"
      ],
      "metadata": {
        "colab": {
          "base_uri": "https://localhost:8080/"
        },
        "id": "zEHSRCZ1tujk",
        "outputId": "5f4656af-2205-4075-dcfc-f999b1e6a548"
      },
      "execution_count": 36,
      "outputs": [
        {
          "output_type": "execute_result",
          "data": {
            "text/plain": [
              "['__and__',\n",
              " '__class__',\n",
              " '__contains__',\n",
              " '__delattr__',\n",
              " '__dir__',\n",
              " '__doc__',\n",
              " '__eq__',\n",
              " '__format__',\n",
              " '__ge__',\n",
              " '__getattribute__',\n",
              " '__gt__',\n",
              " '__hash__',\n",
              " '__iand__',\n",
              " '__init__',\n",
              " '__init_subclass__',\n",
              " '__ior__',\n",
              " '__isub__',\n",
              " '__iter__',\n",
              " '__ixor__',\n",
              " '__le__',\n",
              " '__len__',\n",
              " '__lt__',\n",
              " '__ne__',\n",
              " '__new__',\n",
              " '__or__',\n",
              " '__rand__',\n",
              " '__reduce__',\n",
              " '__reduce_ex__',\n",
              " '__repr__',\n",
              " '__ror__',\n",
              " '__rsub__',\n",
              " '__rxor__',\n",
              " '__setattr__',\n",
              " '__sizeof__',\n",
              " '__str__',\n",
              " '__sub__',\n",
              " '__subclasshook__',\n",
              " '__xor__',\n",
              " 'add',\n",
              " 'clear',\n",
              " 'copy',\n",
              " 'difference',\n",
              " 'difference_update',\n",
              " 'discard',\n",
              " 'intersection',\n",
              " 'intersection_update',\n",
              " 'isdisjoint',\n",
              " 'issubset',\n",
              " 'issuperset',\n",
              " 'pop',\n",
              " 'remove',\n",
              " 'symmetric_difference',\n",
              " 'symmetric_difference_update',\n",
              " 'union',\n",
              " 'update']"
            ]
          },
          "metadata": {},
          "execution_count": 36
        }
      ]
    },
    {
      "cell_type": "markdown",
      "source": [
        "Add-adds an element to the set"
      ],
      "metadata": {
        "id": "lWtmkWuFuC5j"
      }
    },
    {
      "cell_type": "code",
      "source": [
        "Set"
      ],
      "metadata": {
        "colab": {
          "base_uri": "https://localhost:8080/"
        },
        "id": "_JzD5ZZ3t6Ty",
        "outputId": "9f8047db-9586-41fd-8fc6-aad9d599fa48"
      },
      "execution_count": 40,
      "outputs": [
        {
          "output_type": "execute_result",
          "data": {
            "text/plain": [
              "{'apple', 'banana', 'orange'}"
            ]
          },
          "metadata": {},
          "execution_count": 40
        }
      ]
    },
    {
      "cell_type": "code",
      "source": [
        "Set.add('grapes')"
      ],
      "metadata": {
        "id": "NNbT-Z0euKkD"
      },
      "execution_count": 41,
      "outputs": []
    },
    {
      "cell_type": "code",
      "source": [
        "Set #grapes is added to the set"
      ],
      "metadata": {
        "colab": {
          "base_uri": "https://localhost:8080/"
        },
        "id": "SBPE2BHeuizc",
        "outputId": "1bb6bbe5-0a47-42ab-c498-601fe50bd64f"
      },
      "execution_count": 42,
      "outputs": [
        {
          "output_type": "execute_result",
          "data": {
            "text/plain": [
              "{'apple', 'banana', 'grapes', 'orange'}"
            ]
          },
          "metadata": {},
          "execution_count": 42
        }
      ]
    },
    {
      "cell_type": "markdown",
      "source": [
        "Clear- removes all elements from a set"
      ],
      "metadata": {
        "id": "4XZZOrdsuo3f"
      }
    },
    {
      "cell_type": "code",
      "source": [
        "Set.clear()"
      ],
      "metadata": {
        "id": "EJQx1oTLuj9F"
      },
      "execution_count": 43,
      "outputs": []
    },
    {
      "cell_type": "code",
      "source": [
        "Set #so we get an empty set"
      ],
      "metadata": {
        "colab": {
          "base_uri": "https://localhost:8080/"
        },
        "id": "ebCDCmAyuzdr",
        "outputId": "dbf8c795-318c-43f2-87f4-7297f8954aaf"
      },
      "execution_count": 44,
      "outputs": [
        {
          "output_type": "execute_result",
          "data": {
            "text/plain": [
              "set()"
            ]
          },
          "metadata": {},
          "execution_count": 44
        }
      ]
    },
    {
      "cell_type": "code",
      "source": [
        "#let us define a new set\n",
        "Shows={'the Office','Black Mirror','Breaing Bad'}"
      ],
      "metadata": {
        "id": "b7b7xY__u0jM"
      },
      "execution_count": 45,
      "outputs": []
    },
    {
      "cell_type": "markdown",
      "source": [
        "Copy- returns a copy of the set"
      ],
      "metadata": {
        "id": "hCkemuevvKuv"
      }
    },
    {
      "cell_type": "code",
      "source": [
        "netflix=Shows.copy()"
      ],
      "metadata": {
        "id": "0Eu9sY6MvI92"
      },
      "execution_count": 46,
      "outputs": []
    },
    {
      "cell_type": "code",
      "source": [
        "netflix # so a copy of the shows set is created"
      ],
      "metadata": {
        "colab": {
          "base_uri": "https://localhost:8080/"
        },
        "id": "JNOmAXeNvUgz",
        "outputId": "0aba38cb-d152-403e-ae99-25b785cec3de"
      },
      "execution_count": 47,
      "outputs": [
        {
          "output_type": "execute_result",
          "data": {
            "text/plain": [
              "{'Black Mirror', 'Breaing Bad', 'the Office'}"
            ]
          },
          "metadata": {},
          "execution_count": 47
        }
      ]
    },
    {
      "cell_type": "markdown",
      "source": [
        "difference- it returns the difference betwen the sets, i.e. suppose there are are two sets a and b and some elements are commom to a and b. Now if we take a difference between a and b,it will return the elements that are present only in set a"
      ],
      "metadata": {
        "id": "g8KnsBvQvaXh"
      }
    },
    {
      "cell_type": "code",
      "source": [
        "classic_shows={'Friends','Breaing Bad','the Office','Himym'}"
      ],
      "metadata": {
        "id": "TafuB0mFvVtg"
      },
      "execution_count": 48,
      "outputs": []
    },
    {
      "cell_type": "code",
      "source": [
        "new=Shows.difference(classic_shows)"
      ],
      "metadata": {
        "id": "AmspXxqUwWET"
      },
      "execution_count": 50,
      "outputs": []
    },
    {
      "cell_type": "code",
      "source": [
        "new #so we get black mirror as it is unique to set movies only"
      ],
      "metadata": {
        "colab": {
          "base_uri": "https://localhost:8080/"
        },
        "id": "B6PJuQuIwhUM",
        "outputId": "740a5667-11d8-4bce-a5f8-fd99220a2b6b"
      },
      "execution_count": 51,
      "outputs": [
        {
          "output_type": "execute_result",
          "data": {
            "text/plain": [
              "{'Black Mirror'}"
            ]
          },
          "metadata": {},
          "execution_count": 51
        }
      ]
    },
    {
      "cell_type": "markdown",
      "source": [
        "Discard- it removes a specified item"
      ],
      "metadata": {
        "id": "vnGG0m6Jw2uM"
      }
    },
    {
      "cell_type": "code",
      "source": [
        "Shows.discard('Breaing Bad')"
      ],
      "metadata": {
        "id": "IxWNvGr0wrg4"
      },
      "execution_count": 52,
      "outputs": []
    },
    {
      "cell_type": "code",
      "source": [
        "Shows"
      ],
      "metadata": {
        "colab": {
          "base_uri": "https://localhost:8080/"
        },
        "id": "67dAOj4KxGpr",
        "outputId": "2f40761f-cb3e-4d3a-a9ff-e3780999686d"
      },
      "execution_count": 53,
      "outputs": [
        {
          "output_type": "execute_result",
          "data": {
            "text/plain": [
              "{'Black Mirror', 'the Office'}"
            ]
          },
          "metadata": {},
          "execution_count": 53
        }
      ]
    },
    {
      "cell_type": "markdown",
      "source": [
        "Intersection- returns the elements that are common to both sets"
      ],
      "metadata": {
        "id": "kCTPioJTxOZ0"
      }
    },
    {
      "cell_type": "code",
      "source": [
        "Shows.intersection(classic_shows)"
      ],
      "metadata": {
        "colab": {
          "base_uri": "https://localhost:8080/"
        },
        "id": "tDiZb40qxIrB",
        "outputId": "37e5a61e-3276-4b1d-be83-45227cfa5667"
      },
      "execution_count": 54,
      "outputs": [
        {
          "output_type": "execute_result",
          "data": {
            "text/plain": [
              "{'the Office'}"
            ]
          },
          "metadata": {},
          "execution_count": 54
        }
      ]
    },
    {
      "cell_type": "markdown",
      "source": [
        "isdisjoint-Returns whether two sets have a intersection or not"
      ],
      "metadata": {
        "id": "fOccgJmPxaiD"
      }
    },
    {
      "cell_type": "code",
      "source": [
        "Shows.isdisjoint(classic_shows) #so false appears as two sets have elements in common"
      ],
      "metadata": {
        "colab": {
          "base_uri": "https://localhost:8080/"
        },
        "id": "O5P092OOxXsG",
        "outputId": "84ee976b-28fe-40cd-fbac-0631b084e349"
      },
      "execution_count": 55,
      "outputs": [
        {
          "output_type": "execute_result",
          "data": {
            "text/plain": [
              "False"
            ]
          },
          "metadata": {},
          "execution_count": 55
        }
      ]
    },
    {
      "cell_type": "markdown",
      "source": [
        "issubset-Returns whether another set contains this set or not.The issubset() method returns True if all items in the set exists in the specified set, otherwise it retuns False.\n",
        "\n"
      ],
      "metadata": {
        "id": "ZexkSSVHxurW"
      }
    },
    {
      "cell_type": "code",
      "source": [
        "Shows.issubset(classic_shows)"
      ],
      "metadata": {
        "colab": {
          "base_uri": "https://localhost:8080/"
        },
        "id": "kwOucIxdxoRf",
        "outputId": "a46455c9-b91f-480b-bfd2-eb69bedaf60d"
      },
      "execution_count": 56,
      "outputs": [
        {
          "output_type": "execute_result",
          "data": {
            "text/plain": [
              "False"
            ]
          },
          "metadata": {},
          "execution_count": 56
        }
      ]
    },
    {
      "cell_type": "markdown",
      "source": [
        "Pop- removes an element from the set"
      ],
      "metadata": {
        "id": "VJokIKsIyNxS"
      }
    },
    {
      "cell_type": "code",
      "source": [
        "classic_shows"
      ],
      "metadata": {
        "colab": {
          "base_uri": "https://localhost:8080/"
        },
        "id": "JBxNwHDwx7z6",
        "outputId": "775dd00e-efc3-4bc1-a3e8-0b626903c1fa"
      },
      "execution_count": 58,
      "outputs": [
        {
          "output_type": "execute_result",
          "data": {
            "text/plain": [
              "{'Breaing Bad', 'Friends', 'Himym', 'the Office'}"
            ]
          },
          "metadata": {},
          "execution_count": 58
        }
      ]
    },
    {
      "cell_type": "code",
      "source": [
        "classic_shows.pop()"
      ],
      "metadata": {
        "colab": {
          "base_uri": "https://localhost:8080/",
          "height": 35
        },
        "id": "hnm3ynXSyXtt",
        "outputId": "c0b9fdde-2e22-4e20-b5b4-4c0851058f2e"
      },
      "execution_count": 60,
      "outputs": [
        {
          "output_type": "execute_result",
          "data": {
            "text/plain": [
              "'Friends'"
            ],
            "application/vnd.google.colaboratory.intrinsic+json": {
              "type": "string"
            }
          },
          "metadata": {},
          "execution_count": 60
        }
      ]
    },
    {
      "cell_type": "code",
      "source": [
        "classic_shows # so friends is removed"
      ],
      "metadata": {
        "colab": {
          "base_uri": "https://localhost:8080/"
        },
        "id": "xdUcPWzbyhFW",
        "outputId": "b7a62fbf-ce15-4927-d6be-bac7348e426b"
      },
      "execution_count": 61,
      "outputs": [
        {
          "output_type": "execute_result",
          "data": {
            "text/plain": [
              "{'Breaing Bad', 'Himym', 'the Office'}"
            ]
          },
          "metadata": {},
          "execution_count": 61
        }
      ]
    },
    {
      "cell_type": "markdown",
      "source": [
        "Remove-Removes the specified element"
      ],
      "metadata": {
        "id": "6bSv3IYryuZe"
      }
    },
    {
      "cell_type": "code",
      "source": [
        "classic_shows.remove('Himym')"
      ],
      "metadata": {
        "id": "Mdbxc-6PyqBC"
      },
      "execution_count": 62,
      "outputs": []
    },
    {
      "cell_type": "code",
      "source": [
        "classic_shows # so himym is removed"
      ],
      "metadata": {
        "colab": {
          "base_uri": "https://localhost:8080/"
        },
        "id": "tczyWBFwy5E6",
        "outputId": "7ba2ff4d-09c1-43be-9610-0e8343dbe9de"
      },
      "execution_count": 63,
      "outputs": [
        {
          "output_type": "execute_result",
          "data": {
            "text/plain": [
              "{'Breaing Bad', 'the Office'}"
            ]
          },
          "metadata": {},
          "execution_count": 63
        }
      ]
    },
    {
      "cell_type": "markdown",
      "source": [
        "Union-Return a set containing the union of sets"
      ],
      "metadata": {
        "id": "sONwXJdDzGVb"
      }
    },
    {
      "cell_type": "code",
      "source": [
        "Shows"
      ],
      "metadata": {
        "colab": {
          "base_uri": "https://localhost:8080/"
        },
        "id": "I58TFnkay7Zd",
        "outputId": "be6e2cbc-ee6a-4ef1-a412-8eb0ca4dbe50"
      },
      "execution_count": 64,
      "outputs": [
        {
          "output_type": "execute_result",
          "data": {
            "text/plain": [
              "{'Black Mirror', 'the Office'}"
            ]
          },
          "metadata": {},
          "execution_count": 64
        }
      ]
    },
    {
      "cell_type": "code",
      "source": [
        "classic_shows"
      ],
      "metadata": {
        "colab": {
          "base_uri": "https://localhost:8080/"
        },
        "id": "WjXF1iijzOxG",
        "outputId": "c860f3af-6f9d-484c-fce2-9d039ad4543b"
      },
      "execution_count": 65,
      "outputs": [
        {
          "output_type": "execute_result",
          "data": {
            "text/plain": [
              "{'Breaing Bad', 'the Office'}"
            ]
          },
          "metadata": {},
          "execution_count": 65
        }
      ]
    },
    {
      "cell_type": "code",
      "source": [
        "Shows.union(classic_shows) #so we obtain the union of two sets"
      ],
      "metadata": {
        "colab": {
          "base_uri": "https://localhost:8080/"
        },
        "id": "UdPFtYDAzR8l",
        "outputId": "a1f514a7-43e7-49eb-cbbd-8bb4d20d2b65"
      },
      "execution_count": 66,
      "outputs": [
        {
          "output_type": "execute_result",
          "data": {
            "text/plain": [
              "{'Black Mirror', 'Breaing Bad', 'the Office'}"
            ]
          },
          "metadata": {},
          "execution_count": 66
        }
      ]
    },
    {
      "cell_type": "markdown",
      "source": [
        "Update-Update the set with the union of this set and others"
      ],
      "metadata": {
        "id": "lscD1Xqqza0R"
      }
    },
    {
      "cell_type": "code",
      "source": [
        "actors={'timothee','tom cruise','Ryan Gosling'}"
      ],
      "metadata": {
        "id": "Qp9VzLgazWGX"
      },
      "execution_count": 67,
      "outputs": []
    },
    {
      "cell_type": "code",
      "source": [
        "Shows.update(actors)"
      ],
      "metadata": {
        "id": "rC1aJ7fvzyek"
      },
      "execution_count": 68,
      "outputs": []
    },
    {
      "cell_type": "code",
      "source": [
        "Shows"
      ],
      "metadata": {
        "colab": {
          "base_uri": "https://localhost:8080/"
        },
        "id": "jjnzMKDZz1pb",
        "outputId": "5b945af9-4743-42fd-db2e-2de649e8c085"
      },
      "execution_count": 69,
      "outputs": [
        {
          "output_type": "execute_result",
          "data": {
            "text/plain": [
              "{'Black Mirror', 'Ryan Gosling', 'the Office', 'timothee', 'tom cruise'}"
            ]
          },
          "metadata": {},
          "execution_count": 69
        }
      ]
    },
    {
      "cell_type": "markdown",
      "source": [
        "**Dictionary-Dictionaries are used to store data values in key:value pairs**"
      ],
      "metadata": {
        "id": "iy36_E54z5wi"
      }
    },
    {
      "cell_type": "markdown",
      "source": [
        ""
      ],
      "metadata": {
        "id": "rHiY_-vf5FSr"
      }
    },
    {
      "cell_type": "code",
      "source": [
        "dict={2:'red',3:'blue',4:'green'}"
      ],
      "metadata": {
        "id": "5pspotxXz3r2"
      },
      "execution_count": 70,
      "outputs": []
    },
    {
      "cell_type": "code",
      "source": [
        "#to get the methods of dictionary\n",
        "dir(dict)"
      ],
      "metadata": {
        "colab": {
          "base_uri": "https://localhost:8080/"
        },
        "id": "4JM5pSf30Xgv",
        "outputId": "b789a74d-1979-4419-db89-033a6ae5ee56"
      },
      "execution_count": 71,
      "outputs": [
        {
          "output_type": "execute_result",
          "data": {
            "text/plain": [
              "['__class__',\n",
              " '__contains__',\n",
              " '__delattr__',\n",
              " '__delitem__',\n",
              " '__dir__',\n",
              " '__doc__',\n",
              " '__eq__',\n",
              " '__format__',\n",
              " '__ge__',\n",
              " '__getattribute__',\n",
              " '__getitem__',\n",
              " '__gt__',\n",
              " '__hash__',\n",
              " '__init__',\n",
              " '__init_subclass__',\n",
              " '__iter__',\n",
              " '__le__',\n",
              " '__len__',\n",
              " '__lt__',\n",
              " '__ne__',\n",
              " '__new__',\n",
              " '__reduce__',\n",
              " '__reduce_ex__',\n",
              " '__repr__',\n",
              " '__setattr__',\n",
              " '__setitem__',\n",
              " '__sizeof__',\n",
              " '__str__',\n",
              " '__subclasshook__',\n",
              " 'clear',\n",
              " 'copy',\n",
              " 'fromkeys',\n",
              " 'get',\n",
              " 'items',\n",
              " 'keys',\n",
              " 'pop',\n",
              " 'popitem',\n",
              " 'setdefault',\n",
              " 'update',\n",
              " 'values']"
            ]
          },
          "metadata": {},
          "execution_count": 71
        }
      ]
    },
    {
      "cell_type": "code",
      "source": [
        "#methods"
      ],
      "metadata": {
        "id": "zOwV_FDP0cOg"
      },
      "execution_count": 72,
      "outputs": []
    },
    {
      "cell_type": "markdown",
      "source": [
        "Clear-Removes all the elements from the dictionary &\n",
        "Copy-Returns a copy of the dictionary"
      ],
      "metadata": {
        "id": "ZiVihTsn0g_3"
      }
    },
    {
      "cell_type": "code",
      "source": [
        "dictnew=dict.copy() #created a copy so that we dont lose our initial dictionary dict"
      ],
      "metadata": {
        "id": "_EZOttpy0gH0"
      },
      "execution_count": 73,
      "outputs": []
    },
    {
      "cell_type": "code",
      "source": [
        "dictnew.clear() #so we get an empty dictionary"
      ],
      "metadata": {
        "id": "btKZL3qN0qbD"
      },
      "execution_count": 74,
      "outputs": []
    },
    {
      "cell_type": "code",
      "source": [
        "dictnew"
      ],
      "metadata": {
        "colab": {
          "base_uri": "https://localhost:8080/"
        },
        "id": "Kb8C2mHD0tIv",
        "outputId": "696f4735-b73b-4cc8-e20c-a6db8e70c9ac"
      },
      "execution_count": 75,
      "outputs": [
        {
          "output_type": "execute_result",
          "data": {
            "text/plain": [
              "{}"
            ]
          },
          "metadata": {},
          "execution_count": 75
        }
      ]
    },
    {
      "cell_type": "markdown",
      "source": [
        "fromkeys-Returns a dictionary with the specified keys and value"
      ],
      "metadata": {
        "id": "Sy6Nrcda04EY"
      }
    },
    {
      "cell_type": "code",
      "source": [
        "x = ('key1', 'key2', 'key3')\n",
        "y = 0\n",
        "\n",
        "thisdict = dict.fromkeys(x, y)\n",
        "\n",
        "\n",
        "print(thisdict)"
      ],
      "metadata": {
        "colab": {
          "base_uri": "https://localhost:8080/"
        },
        "id": "tbkIr24-0uYd",
        "outputId": "ec6f6449-59d9-43ef-d7b2-5703c2a1e631"
      },
      "execution_count": 83,
      "outputs": [
        {
          "output_type": "stream",
          "name": "stdout",
          "text": [
            "{'key1': 0, 'key2': 0, 'key3': 0}\n"
          ]
        }
      ]
    },
    {
      "cell_type": "markdown",
      "source": [
        "Get-Returns the value of the specified key"
      ],
      "metadata": {
        "id": "Wmt4UolA14Td"
      }
    },
    {
      "cell_type": "code",
      "source": [
        "dict"
      ],
      "metadata": {
        "colab": {
          "base_uri": "https://localhost:8080/"
        },
        "id": "3tdWQGmm1KCX",
        "outputId": "0c53068d-7f6b-490f-c832-66afbc3ce1ce"
      },
      "execution_count": 84,
      "outputs": [
        {
          "output_type": "execute_result",
          "data": {
            "text/plain": [
              "{2: 'red', 3: 'blue', 4: 'green'}"
            ]
          },
          "metadata": {},
          "execution_count": 84
        }
      ]
    },
    {
      "cell_type": "code",
      "source": [
        "dict.get(2)"
      ],
      "metadata": {
        "colab": {
          "base_uri": "https://localhost:8080/",
          "height": 35
        },
        "id": "qNyVv8jF1jCa",
        "outputId": "212feb2a-3a4b-4582-e016-5b33949156a7"
      },
      "execution_count": 85,
      "outputs": [
        {
          "output_type": "execute_result",
          "data": {
            "text/plain": [
              "'red'"
            ],
            "application/vnd.google.colaboratory.intrinsic+json": {
              "type": "string"
            }
          },
          "metadata": {},
          "execution_count": 85
        }
      ]
    },
    {
      "cell_type": "markdown",
      "source": [
        "items-Returns a list containing a tuple for each key value pair"
      ],
      "metadata": {
        "id": "qWGpTkrF2JZq"
      }
    },
    {
      "cell_type": "code",
      "source": [
        "dict.items()"
      ],
      "metadata": {
        "colab": {
          "base_uri": "https://localhost:8080/"
        },
        "id": "NPwxQ_j42HyV",
        "outputId": "dbac41f3-fa73-48e6-a644-6ad10ce17767"
      },
      "execution_count": 86,
      "outputs": [
        {
          "output_type": "execute_result",
          "data": {
            "text/plain": [
              "dict_items([(2, 'red'), (3, 'blue'), (4, 'green')])"
            ]
          },
          "metadata": {},
          "execution_count": 86
        }
      ]
    },
    {
      "cell_type": "markdown",
      "source": [
        "keys-Returns a list containing the dictionary's keys\n"
      ],
      "metadata": {
        "id": "fDtzJEaN2RYq"
      }
    },
    {
      "cell_type": "code",
      "source": [
        "dict.keys()"
      ],
      "metadata": {
        "colab": {
          "base_uri": "https://localhost:8080/"
        },
        "id": "v-njugVS2P0D",
        "outputId": "cd71d97f-9bff-4b99-8598-c440f0dfa584"
      },
      "execution_count": 87,
      "outputs": [
        {
          "output_type": "execute_result",
          "data": {
            "text/plain": [
              "dict_keys([2, 3, 4])"
            ]
          },
          "metadata": {},
          "execution_count": 87
        }
      ]
    },
    {
      "cell_type": "markdown",
      "source": [
        "pop-Removes the element with the specified key"
      ],
      "metadata": {
        "id": "3z0w35N_3mcr"
      }
    },
    {
      "cell_type": "code",
      "source": [
        "dict.pop(2)"
      ],
      "metadata": {
        "colab": {
          "base_uri": "https://localhost:8080/",
          "height": 35
        },
        "id": "x8MLhCvS3jZo",
        "outputId": "cdd193fc-ed68-49ff-b71b-adeacf9c6046"
      },
      "execution_count": 88,
      "outputs": [
        {
          "output_type": "execute_result",
          "data": {
            "text/plain": [
              "'red'"
            ],
            "application/vnd.google.colaboratory.intrinsic+json": {
              "type": "string"
            }
          },
          "metadata": {},
          "execution_count": 88
        }
      ]
    },
    {
      "cell_type": "code",
      "source": [
        "dict"
      ],
      "metadata": {
        "colab": {
          "base_uri": "https://localhost:8080/"
        },
        "id": "br6Ybc7r3zgo",
        "outputId": "72f9e7b6-a54e-45a8-d25f-a7e77c827f90"
      },
      "execution_count": 89,
      "outputs": [
        {
          "output_type": "execute_result",
          "data": {
            "text/plain": [
              "{3: 'blue', 4: 'green'}"
            ]
          },
          "metadata": {},
          "execution_count": 89
        }
      ]
    },
    {
      "cell_type": "markdown",
      "source": [
        "popitem-Removes the last inserted key-value pair"
      ],
      "metadata": {
        "id": "wvgpJ85L34_I"
      }
    },
    {
      "cell_type": "code",
      "source": [
        "dict"
      ],
      "metadata": {
        "colab": {
          "base_uri": "https://localhost:8080/"
        },
        "id": "bQ3uT1h730sf",
        "outputId": "3e6749e7-b9b5-4f28-8923-68de77f660d5"
      },
      "execution_count": 90,
      "outputs": [
        {
          "output_type": "execute_result",
          "data": {
            "text/plain": [
              "{3: 'blue', 4: 'green'}"
            ]
          },
          "metadata": {},
          "execution_count": 90
        }
      ]
    },
    {
      "cell_type": "code",
      "source": [
        "dict.popitem()"
      ],
      "metadata": {
        "colab": {
          "base_uri": "https://localhost:8080/"
        },
        "id": "hQGPy6Di4BqF",
        "outputId": "167524ed-db3f-4f42-8d55-ef185e5828dd"
      },
      "execution_count": 91,
      "outputs": [
        {
          "output_type": "execute_result",
          "data": {
            "text/plain": [
              "(4, 'green')"
            ]
          },
          "metadata": {},
          "execution_count": 91
        }
      ]
    },
    {
      "cell_type": "markdown",
      "source": [
        "Update-Updates the dictionary with the specified key-value pairs"
      ],
      "metadata": {
        "id": "YQBfhy4M4Hvb"
      }
    },
    {
      "cell_type": "code",
      "source": [
        "dict.update({5: \"White\"})"
      ],
      "metadata": {
        "id": "YWevq2rp4F8o"
      },
      "execution_count": 92,
      "outputs": []
    },
    {
      "cell_type": "code",
      "source": [
        "dict"
      ],
      "metadata": {
        "colab": {
          "base_uri": "https://localhost:8080/"
        },
        "id": "WW8oo3qR4XEg",
        "outputId": "1adf1fa1-c329-4a5b-c221-828d307ccb15"
      },
      "execution_count": 93,
      "outputs": [
        {
          "output_type": "execute_result",
          "data": {
            "text/plain": [
              "{3: 'blue', 5: 'White'}"
            ]
          },
          "metadata": {},
          "execution_count": 93
        }
      ]
    },
    {
      "cell_type": "markdown",
      "source": [
        "values-Returns a list of all the values in the dictionary"
      ],
      "metadata": {
        "id": "JwaJhDXI4fuw"
      }
    },
    {
      "cell_type": "code",
      "source": [
        "dict.values()"
      ],
      "metadata": {
        "colab": {
          "base_uri": "https://localhost:8080/"
        },
        "id": "PZ3t9tC84YKC",
        "outputId": "fb7192d1-7a66-41ed-9fa7-8ef777e5b9ab"
      },
      "execution_count": 94,
      "outputs": [
        {
          "output_type": "execute_result",
          "data": {
            "text/plain": [
              "dict_values(['blue', 'White'])"
            ]
          },
          "metadata": {},
          "execution_count": 94
        }
      ]
    },
    {
      "cell_type": "code",
      "source": [
        ""
      ],
      "metadata": {
        "id": "ZlglFaDF4q_w"
      },
      "execution_count": null,
      "outputs": []
    }
  ]
}
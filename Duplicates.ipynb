{
  "nbformat": 4,
  "nbformat_minor": 0,
  "metadata": {
    "colab": {
      "name": "Duplicates.ipynb",
      "provenance": [],
      "authorship_tag": "ABX9TyOnBnoTJ3l7+Mgmzm8i7OaH",
      "include_colab_link": true
    },
    "kernelspec": {
      "name": "python3",
      "display_name": "Python 3"
    },
    "language_info": {
      "name": "python"
    }
  },
  "cells": [
    {
      "cell_type": "markdown",
      "metadata": {
        "id": "view-in-github",
        "colab_type": "text"
      },
      "source": [
        "<a href=\"https://colab.research.google.com/github/Soumee06/Python-New/blob/main/Duplicates.ipynb\" target=\"_parent\"><img src=\"https://colab.research.google.com/assets/colab-badge.svg\" alt=\"Open In Colab\"/></a>"
      ]
    },
    {
      "cell_type": "code",
      "execution_count": 8,
      "metadata": {
        "id": "cX2MApN3msHD"
      },
      "outputs": [],
      "source": [
        "#To Remove duplicates\n",
        "def Remove(duplicate_num):\n",
        "    list = []\n",
        "    for num in duplicate_num:\n",
        "        if num not in list:\n",
        "            list.append(num)\n",
        "    return list"
      ]
    },
    {
      "cell_type": "code",
      "source": [
        "duplicate_num = [2,4,4,10,10,10,6,8]\n",
        "print(Remove(duplicate_num))"
      ],
      "metadata": {
        "colab": {
          "base_uri": "https://localhost:8080/"
        },
        "id": "GT5Axem_ox4x",
        "outputId": "b04368d2-7676-480d-c993-b30b1a412871"
      },
      "execution_count": 9,
      "outputs": [
        {
          "output_type": "stream",
          "name": "stdout",
          "text": [
            "[2, 4, 10, 6, 8]\n"
          ]
        }
      ]
    },
    {
      "cell_type": "code",
      "source": [
        ""
      ],
      "metadata": {
        "id": "q4ZaTPzJm7na"
      },
      "execution_count": 6,
      "outputs": []
    }
  ]
}
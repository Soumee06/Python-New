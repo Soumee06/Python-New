{
  "nbformat": 4,
  "nbformat_minor": 0,
  "metadata": {
    "colab": {
      "name": "list into count dictionary.ipynb",
      "provenance": [],
      "authorship_tag": "ABX9TyNWgqz4WaLP0OW4lLcVXh2h",
      "include_colab_link": true
    },
    "kernelspec": {
      "name": "python3",
      "display_name": "Python 3"
    },
    "language_info": {
      "name": "python"
    }
  },
  "cells": [
    {
      "cell_type": "markdown",
      "metadata": {
        "id": "view-in-github",
        "colab_type": "text"
      },
      "source": [
        "<a href=\"https://colab.research.google.com/github/Soumee06/Python-New/blob/main/list_into_count_dictionary.ipynb\" target=\"_parent\"><img src=\"https://colab.research.google.com/assets/colab-badge.svg\" alt=\"Open In Colab\"/></a>"
      ]
    },
    {
      "cell_type": "markdown",
      "source": [
        "Next problem:\n",
        " \n",
        "Input a list of words and convert it into a count dictionary. Example: \n",
        " \n",
        "hello how are you? how are the potatoes?\n",
        " \n",
        "result: { hello:1, how:2, are:2, you:1, the:1, potatoes: 1 } "
      ],
      "metadata": {
        "id": "-nuF0BUl3ca4"
      }
    },
    {
      "cell_type": "code",
      "source": [
        "string = input(\"Please enter any String : \")\n",
        "words = []\n",
        "\n",
        "words = string.split()\n",
        "frequency = [words.count(i) for i in words]\n",
        "\n",
        "myDict = dict(zip(words, frequency))\n",
        "print(\"Dictionary Items  :  \",  myDict)"
      ],
      "metadata": {
        "colab": {
          "base_uri": "https://localhost:8080/"
        },
        "id": "oEjXN_ri3n8h",
        "outputId": "6ee6ebbb-3643-4681-8189-81a35f8f116e"
      },
      "execution_count": 15,
      "outputs": [
        {
          "output_type": "stream",
          "name": "stdout",
          "text": [
            "Please enter any String : \"hello how are you? how are the potatoes?\"\n",
            "Dictionary Items  :   {'\"hello': 1, 'how': 2, 'are': 2, 'you?': 1, 'the': 1, 'potatoes?\"': 1}\n"
          ]
        }
      ]
    },
    {
      "cell_type": "code",
      "source": [
        ""
      ],
      "metadata": {
        "id": "4YQumvl77SfY"
      },
      "execution_count": null,
      "outputs": []
    }
  ]
}
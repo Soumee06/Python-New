{
  "nbformat": 4,
  "nbformat_minor": 0,
  "metadata": {
    "colab": {
      "name": "new python.ipynb",
      "provenance": []
    },
    "kernelspec": {
      "name": "python3",
      "display_name": "Python 3"
    },
    "language_info": {
      "name": "python"
    }
  },
  "cells": [
    {
      "cell_type": "code",
      "execution_count": 1,
      "metadata": {
        "colab": {
          "base_uri": "https://localhost:8080/"
        },
        "id": "Qw71h1CthH7o",
        "outputId": "a6977e0b-0bc6-434d-a784-adb9b7afb5b0"
      },
      "outputs": [
        {
          "output_type": "stream",
          "name": "stdout",
          "text": [
            "Writing script.py\n"
          ]
        }
      ],
      "source": [
        "%%writefile script.py\n",
        "input1=int(intput(\"Enter a num1\"))\n",
        "input2=int(input(\"Enter a num2\"))\n",
        "if num1>num2:\n",
        "  print (num1 is the largest)\n",
        "else:\n",
        "    print( num2 is the largest)"
      ]
    },
    {
      "cell_type": "code",
      "source": [
        "%%writefile script1.py\n",
        "input1=int(intput(\"Enter a num1\"))\n",
        "input2=int(input(\"Enter a num2\"))\n",
        "if num1<num2:\n",
        "  print (num1 is the smallest)\n",
        "else:\n",
        "    print( num2 is the smallest)"
      ],
      "metadata": {
        "colab": {
          "base_uri": "https://localhost:8080/"
        },
        "id": "u8s-sSs4hexr",
        "outputId": "76c4c222-af6e-42c7-f6a7-6878aa3a069e"
      },
      "execution_count": 2,
      "outputs": [
        {
          "output_type": "stream",
          "name": "stdout",
          "text": [
            "Writing script1.py\n"
          ]
        }
      ]
    },
    {
      "cell_type": "code",
      "source": [
        ""
      ],
      "metadata": {
        "id": "eWBlW45PiqXr"
      },
      "execution_count": null,
      "outputs": []
    }
  ]
}